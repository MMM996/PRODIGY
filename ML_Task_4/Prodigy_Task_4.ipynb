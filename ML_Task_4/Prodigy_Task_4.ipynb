{
  "nbformat": 4,
  "nbformat_minor": 0,
  "metadata": {
    "colab": {
      "provenance": []
    },
    "kernelspec": {
      "name": "python3",
      "display_name": "Python 3"
    },
    "language_info": {
      "name": "python"
    }
  },
  "cells": [
    {
      "cell_type": "markdown",
      "source": [
        "\n",
        "This is the code for Task 4 Prodigy Techinfo internship\n",
        "*   Hand Gesture Recognition\n",
        "*   The Date is Jan-24\n",
        "\n",
        "Dataset: https://data.mendeley.com/datasets/y9svrbh27n/1\n",
        "\n",
        "The Code is written by Muhammad Mudassir Majeed"
      ],
      "metadata": {
        "id": "PNseWessbudx"
      }
    },
    {
      "cell_type": "markdown",
      "source": [
        "# Section 1: Load Data"
      ],
      "metadata": {
        "id": "BCR4qZAX9vLw"
      }
    },
    {
      "cell_type": "markdown",
      "source": [
        "Here we will use transfer learning Approach"
      ],
      "metadata": {
        "id": "0_KEQ0jg99XA"
      }
    },
    {
      "cell_type": "code",
      "source": [
        "import numpy as np\n",
        "from keras.preprocessing.image import ImageDataGenerator\n",
        "\n",
        "# for Model 1\n",
        "from keras.applications.vgg16 import VGG16\n",
        "from keras.applications.vgg16 import preprocess_input as preprocess_input_vgg\n",
        "from keras.applications.vgg16 import decode_predictions as decode_vgg\n",
        "\n",
        "# for Model 2\n",
        "from keras.applications.densenet import DenseNet121\n",
        "from keras.applications.densenet import preprocess_input as preprocess_input_densenet\n",
        "from keras.applications.densenet import decode_predictions as decode_densenet\n",
        "\n",
        "\n",
        "from keras.layers import Dense, Flatten, Dropout, BatchNormalization\n",
        "from keras.models import Model\n",
        "from keras.optimizers import Adam\n",
        "from keras.layers import Input, Lambda, Dense, Flatten\n",
        "from keras.models import Model\n",
        "from keras.preprocessing import image\n",
        "from keras.models import Sequential\n",
        "from glob import glob\n",
        "import matplotlib.pyplot as plt\n",
        "\n",
        "# For Evalutaion\n",
        "from sklearn.metrics import confusion_matrix, classification_report, accuracy_score"
      ],
      "metadata": {
        "id": "qlG5ixkn97Ai"
      },
      "execution_count": 1,
      "outputs": []
    },
    {
      "cell_type": "markdown",
      "source": [
        "Mount Drive and Folder"
      ],
      "metadata": {
        "id": "jqayEdVw-CEo"
      }
    },
    {
      "cell_type": "code",
      "execution_count": 2,
      "metadata": {
        "colab": {
          "base_uri": "https://localhost:8080/"
        },
        "id": "4aj38pOdbhRS",
        "outputId": "18fabd30-3279-40be-b3fd-f63a61874435"
      },
      "outputs": [
        {
          "output_type": "stream",
          "name": "stdout",
          "text": [
            "Mounted at /content/gdrive\n"
          ]
        }
      ],
      "source": [
        "from google.colab import drive\n",
        "drive.mount('/content/gdrive')"
      ]
    },
    {
      "cell_type": "code",
      "source": [
        "Data_Folder = glob('PSL')"
      ],
      "metadata": {
        "id": "OTak80ck-R39"
      },
      "execution_count": 3,
      "outputs": []
    },
    {
      "cell_type": "markdown",
      "source": [
        "# Section 2: Pre-Process Data"
      ],
      "metadata": {
        "id": "sBwsx_gk-RQX"
      }
    },
    {
      "cell_type": "code",
      "source": [
        "train_datagenerate = ImageDataGenerator(rescale = 1./255,\n",
        "                                   shear_range = 0.2,\n",
        "                                   zoom_range = 0.2,\n",
        "                                   horizontal_flip = True)"
      ],
      "metadata": {
        "id": "FhhsG33ANnPf"
      },
      "execution_count": 4,
      "outputs": []
    },
    {
      "cell_type": "code",
      "source": [
        "test_datagenerate = ImageDataGenerator(rescale = 1./255)"
      ],
      "metadata": {
        "id": "T4DsEegaNsVv"
      },
      "execution_count": 5,
      "outputs": []
    },
    {
      "cell_type": "code",
      "source": [
        "training_set = train_datagenerate.flow_from_directory('/content/gdrive/MyDrive/Assignment 2 DL Sets/Train',\n",
        "                                                 target_size = (224, 224),\n",
        "                                                 batch_size = 32,\n",
        "                                                 class_mode = 'categorical')"
      ],
      "metadata": {
        "colab": {
          "base_uri": "https://localhost:8080/"
        },
        "id": "wVSU3HCbN3fP",
        "outputId": "a4cf3374-e72d-4e30-c5e5-425d80758d8c"
      },
      "execution_count": 6,
      "outputs": [
        {
          "output_type": "stream",
          "name": "stdout",
          "text": [
            "Found 1140 images belonging to 37 classes.\n"
          ]
        }
      ]
    },
    {
      "cell_type": "code",
      "source": [
        "test_set = test_datagenerate.flow_from_directory('/content/gdrive/MyDrive/Assignment 2 DL Sets/Test',\n",
        "                                            target_size = (224, 224),\n",
        "                                            batch_size = 32,\n",
        "                                            class_mode = 'categorical')"
      ],
      "metadata": {
        "colab": {
          "base_uri": "https://localhost:8080/"
        },
        "id": "IkoEAx5qN8Qn",
        "outputId": "0e21127b-db7f-47f4-cb13-f0c5b51999e7"
      },
      "execution_count": 7,
      "outputs": [
        {
          "output_type": "stream",
          "name": "stdout",
          "text": [
            "Found 370 images belonging to 37 classes.\n"
          ]
        }
      ]
    },
    {
      "cell_type": "markdown",
      "source": [
        "# Section 3: Model Buiding"
      ],
      "metadata": {
        "id": "xLzXrBn2-qcA"
      }
    },
    {
      "cell_type": "markdown",
      "source": [
        "We will train model using transfer learning and evaluate results\n",
        "\n",
        "*   Compile Model\n",
        "*   Train Model"
      ],
      "metadata": {
        "id": "Y4YNwpta31rq"
      }
    },
    {
      "cell_type": "markdown",
      "source": [
        "## Section 3a: VGG16"
      ],
      "metadata": {
        "id": "a6m_MPcdS6L1"
      }
    },
    {
      "cell_type": "code",
      "execution_count": 9,
      "metadata": {
        "id": "YX7kGhVtxhSW",
        "colab": {
          "base_uri": "https://localhost:8080/"
        },
        "outputId": "93413868-1314-48d9-e016-e475d398d971"
      },
      "outputs": [
        {
          "output_type": "stream",
          "name": "stdout",
          "text": [
            "CPU times: user 503 ms, sys: 95.2 ms, total: 598 ms\n",
            "Wall time: 503 ms\n"
          ]
        }
      ],
      "source": [
        "%%time\n",
        "vgg_case2 = VGG16(weights = \"imagenet\", include_top=False, input_shape = (224,224, 3))\n",
        "#include_top is false to ignore the fully connected classifier part on top of the model."
      ]
    },
    {
      "cell_type": "code",
      "execution_count": 10,
      "metadata": {
        "id": "5s6S9mr8xhSW",
        "colab": {
          "base_uri": "https://localhost:8080/"
        },
        "outputId": "30dab143-1898-4d53-88eb-a185ed1658bb"
      },
      "outputs": [
        {
          "output_type": "stream",
          "name": "stdout",
          "text": [
            "Model: \"vgg16\"\n",
            "_________________________________________________________________\n",
            " Layer (type)                Output Shape              Param #   \n",
            "=================================================================\n",
            " input_2 (InputLayer)        [(None, 224, 224, 3)]     0         \n",
            "                                                                 \n",
            " block1_conv1 (Conv2D)       (None, 224, 224, 64)      1792      \n",
            "                                                                 \n",
            " block1_conv2 (Conv2D)       (None, 224, 224, 64)      36928     \n",
            "                                                                 \n",
            " block1_pool (MaxPooling2D)  (None, 112, 112, 64)      0         \n",
            "                                                                 \n",
            " block2_conv1 (Conv2D)       (None, 112, 112, 128)     73856     \n",
            "                                                                 \n",
            " block2_conv2 (Conv2D)       (None, 112, 112, 128)     147584    \n",
            "                                                                 \n",
            " block2_pool (MaxPooling2D)  (None, 56, 56, 128)       0         \n",
            "                                                                 \n",
            " block3_conv1 (Conv2D)       (None, 56, 56, 256)       295168    \n",
            "                                                                 \n",
            " block3_conv2 (Conv2D)       (None, 56, 56, 256)       590080    \n",
            "                                                                 \n",
            " block3_conv3 (Conv2D)       (None, 56, 56, 256)       590080    \n",
            "                                                                 \n",
            " block3_pool (MaxPooling2D)  (None, 28, 28, 256)       0         \n",
            "                                                                 \n",
            " block4_conv1 (Conv2D)       (None, 28, 28, 512)       1180160   \n",
            "                                                                 \n",
            " block4_conv2 (Conv2D)       (None, 28, 28, 512)       2359808   \n",
            "                                                                 \n",
            " block4_conv3 (Conv2D)       (None, 28, 28, 512)       2359808   \n",
            "                                                                 \n",
            " block4_pool (MaxPooling2D)  (None, 14, 14, 512)       0         \n",
            "                                                                 \n",
            " block5_conv1 (Conv2D)       (None, 14, 14, 512)       2359808   \n",
            "                                                                 \n",
            " block5_conv2 (Conv2D)       (None, 14, 14, 512)       2359808   \n",
            "                                                                 \n",
            " block5_conv3 (Conv2D)       (None, 14, 14, 512)       2359808   \n",
            "                                                                 \n",
            " block5_pool (MaxPooling2D)  (None, 7, 7, 512)         0         \n",
            "                                                                 \n",
            "=================================================================\n",
            "Total params: 14714688 (56.13 MB)\n",
            "Trainable params: 14714688 (56.13 MB)\n",
            "Non-trainable params: 0 (0.00 Byte)\n",
            "_________________________________________________________________\n"
          ]
        }
      ],
      "source": [
        "vgg_case2.summary()"
      ]
    },
    {
      "cell_type": "code",
      "execution_count": 11,
      "metadata": {
        "id": "zJDtZpzYxhSX"
      },
      "outputs": [],
      "source": [
        "for layer in vgg_case2.layers:\n",
        "    layer.trainable = False"
      ]
    },
    {
      "cell_type": "code",
      "source": [
        "output = Flatten()(vgg_case2.output)"
      ],
      "metadata": {
        "id": "mFc1TOLBEA8a"
      },
      "execution_count": 12,
      "outputs": []
    },
    {
      "cell_type": "code",
      "source": [
        "output_prediction = Dense(37, activation='softmax')(output)"
      ],
      "metadata": {
        "id": "Vw8v1B_2E2Zw"
      },
      "execution_count": 13,
      "outputs": []
    },
    {
      "cell_type": "code",
      "source": [
        "model_vgg_case2 = Model(inputs=vgg_case2.input, outputs=output_prediction)"
      ],
      "metadata": {
        "id": "xYkxhsWrIulX"
      },
      "execution_count": 14,
      "outputs": []
    },
    {
      "cell_type": "code",
      "source": [
        "model_vgg_case2.summary()"
      ],
      "metadata": {
        "id": "r3enetM_I7lu",
        "colab": {
          "base_uri": "https://localhost:8080/"
        },
        "outputId": "311a4d28-dd90-4a4b-f6e1-c4c4fb4b00e5"
      },
      "execution_count": 15,
      "outputs": [
        {
          "output_type": "stream",
          "name": "stdout",
          "text": [
            "Model: \"model\"\n",
            "_________________________________________________________________\n",
            " Layer (type)                Output Shape              Param #   \n",
            "=================================================================\n",
            " input_2 (InputLayer)        [(None, 224, 224, 3)]     0         \n",
            "                                                                 \n",
            " block1_conv1 (Conv2D)       (None, 224, 224, 64)      1792      \n",
            "                                                                 \n",
            " block1_conv2 (Conv2D)       (None, 224, 224, 64)      36928     \n",
            "                                                                 \n",
            " block1_pool (MaxPooling2D)  (None, 112, 112, 64)      0         \n",
            "                                                                 \n",
            " block2_conv1 (Conv2D)       (None, 112, 112, 128)     73856     \n",
            "                                                                 \n",
            " block2_conv2 (Conv2D)       (None, 112, 112, 128)     147584    \n",
            "                                                                 \n",
            " block2_pool (MaxPooling2D)  (None, 56, 56, 128)       0         \n",
            "                                                                 \n",
            " block3_conv1 (Conv2D)       (None, 56, 56, 256)       295168    \n",
            "                                                                 \n",
            " block3_conv2 (Conv2D)       (None, 56, 56, 256)       590080    \n",
            "                                                                 \n",
            " block3_conv3 (Conv2D)       (None, 56, 56, 256)       590080    \n",
            "                                                                 \n",
            " block3_pool (MaxPooling2D)  (None, 28, 28, 256)       0         \n",
            "                                                                 \n",
            " block4_conv1 (Conv2D)       (None, 28, 28, 512)       1180160   \n",
            "                                                                 \n",
            " block4_conv2 (Conv2D)       (None, 28, 28, 512)       2359808   \n",
            "                                                                 \n",
            " block4_conv3 (Conv2D)       (None, 28, 28, 512)       2359808   \n",
            "                                                                 \n",
            " block4_pool (MaxPooling2D)  (None, 14, 14, 512)       0         \n",
            "                                                                 \n",
            " block5_conv1 (Conv2D)       (None, 14, 14, 512)       2359808   \n",
            "                                                                 \n",
            " block5_conv2 (Conv2D)       (None, 14, 14, 512)       2359808   \n",
            "                                                                 \n",
            " block5_conv3 (Conv2D)       (None, 14, 14, 512)       2359808   \n",
            "                                                                 \n",
            " block5_pool (MaxPooling2D)  (None, 7, 7, 512)         0         \n",
            "                                                                 \n",
            " flatten (Flatten)           (None, 25088)             0         \n",
            "                                                                 \n",
            " dense (Dense)               (None, 37)                928293    \n",
            "                                                                 \n",
            "=================================================================\n",
            "Total params: 15642981 (59.67 MB)\n",
            "Trainable params: 928293 (3.54 MB)\n",
            "Non-trainable params: 14714688 (56.13 MB)\n",
            "_________________________________________________________________\n"
          ]
        }
      ]
    },
    {
      "cell_type": "code",
      "execution_count": 16,
      "metadata": {
        "id": "EvgfASXCxhSb"
      },
      "outputs": [],
      "source": [
        "model_vgg_case2.compile(Adam(learning_rate=0.0001), loss='categorical_crossentropy', metrics=['accuracy'])"
      ]
    },
    {
      "cell_type": "code",
      "execution_count": 17,
      "metadata": {
        "id": "KhkOyD2XxhSc",
        "colab": {
          "base_uri": "https://localhost:8080/"
        },
        "outputId": "c1081a85-9ba4-4ee2-fb5b-0fdd666eb02f"
      },
      "outputs": [
        {
          "output_type": "stream",
          "name": "stdout",
          "text": [
            "Epoch 1/5\n",
            "36/36 [==============================] - 875s 24s/step - loss: 3.0467 - accuracy: 0.3211 - val_loss: 2.4069 - val_accuracy: 0.4784\n",
            "Epoch 2/5\n",
            "36/36 [==============================] - 811s 23s/step - loss: 1.8868 - accuracy: 0.7237 - val_loss: 1.5740 - val_accuracy: 0.7514\n",
            "Epoch 3/5\n",
            "36/36 [==============================] - 814s 23s/step - loss: 1.2367 - accuracy: 0.8798 - val_loss: 1.1566 - val_accuracy: 0.8081\n",
            "Epoch 4/5\n",
            "36/36 [==============================] - 809s 23s/step - loss: 0.8632 - accuracy: 0.9096 - val_loss: 0.9214 - val_accuracy: 0.8568\n",
            "Epoch 5/5\n",
            "36/36 [==============================] - 802s 22s/step - loss: 0.6473 - accuracy: 0.9368 - val_loss: 0.7691 - val_accuracy: 0.8730\n",
            "CPU times: user 1h 47min 52s, sys: 6min 4s, total: 1h 53min 57s\n",
            "Wall time: 1h 10min 18s\n"
          ]
        }
      ],
      "source": [
        "%%time\n",
        "results = model_vgg_case2.fit(training_set, validation_data =test_set, batch_size=10, epochs=5)"
      ]
    },
    {
      "cell_type": "code",
      "source": [
        "plt.plot(results.history['loss'], label='train loss')\n",
        "plt.plot(results.history['val_loss'], label='val loss')\n",
        "plt.legend()\n",
        "plt.show()\n",
        "plt.savefig('LossVal_loss_VGG16')"
      ],
      "metadata": {
        "id": "04dP4yxwOxji",
        "colab": {
          "base_uri": "https://localhost:8080/",
          "height": 447
        },
        "outputId": "ed87d3a2-3eb4-45a7-c671-36002bad0fcb"
      },
      "execution_count": 18,
      "outputs": [
        {
          "output_type": "display_data",
          "data": {
            "text/plain": [
              "<Figure size 640x480 with 1 Axes>"
            ],
            "image/png": "[encoded data removed]"
          },
          "metadata": {}
        },
        {
          "output_type": "display_data",
          "data": {
            "text/plain": [
              "<Figure size 640x480 with 0 Axes>"
            ]
          },
          "metadata": {}
        }
      ]
    },
    {
      "cell_type": "markdown",
      "source": [
        "# Section 4: Evaluation"
      ],
      "metadata": {
        "id": "pw6p9p_j_319"
      }
    },
    {
      "cell_type": "code",
      "source": [
        "# Evaluate Model\n",
        "evaluation_results_Vgg16 = model_vgg_case2.evaluate(test_set)\n",
        "\n",
        "print(\"Test Loss:\", evaluation_results_Vgg16[0])\n",
        "print(\"Test Accuracy:\", evaluation_results_Vgg16[1])\n",
        "\n",
        "# Get model predictions on the test set\n",
        "predictions_Vgg16 = model_vgg_case2.predict(test_set)\n",
        "\n",
        "# Convert predictions to class labels\n",
        "predicted_classes_Vgg16 = np.argmax(predictions_Vgg16, axis=1)\n",
        "\n",
        "# Obtain true class labels from the test set\n",
        "true_classes_Vgg16 = test_set.classes\n",
        "\n",
        "# Calculate confusion matrix\n",
        "conf_matrix_Vgg16 = confusion_matrix(true_classes_Vgg16, predicted_classes_Vgg16)\n",
        "\n",
        "# Calculate classification report\n",
        "class_report_Vgg16 = classification_report(true_classes_Vgg16, predicted_classes_Vgg16, target_names=test_set.class_indices)\n",
        "\n",
        "# Calculate accuracy score\n",
        "accuracy_Vgg16 = accuracy_score(true_classes_Vgg16, predicted_classes_Vgg16)\n",
        "\n",
        "# Display results\n",
        "print(\"Confusion Matrix:\")\n",
        "print(conf_matrix_Vgg16)\n",
        "\n",
        "print(\"\\nClassification Report:\")\n",
        "print(class_report_Vgg16)\n",
        "\n",
        "print(\"\\nAccuracy_Dense:\", accuracy_Vgg16)\n"
      ],
      "metadata": {
        "colab": {
          "base_uri": "https://localhost:8080/"
        },
        "id": "N6ww_ziQjur3",
        "outputId": "e2fcd21e-2ec6-4604-d920-50a9168fad5e"
      },
      "execution_count": 20,
      "outputs": [
        {
          "output_type": "stream",
          "name": "stdout",
          "text": [
            "12/12 [==============================] - 201s 16s/step - loss: 0.7691 - accuracy: 0.8730\n",
            "Test Loss: 0.769115149974823\n",
            "Test Accuracy: 0.8729729652404785\n",
            "12/12 [==============================] - 194s 16s/step\n",
            "Confusion Matrix:\n",
            "[[0 0 2 ... 0 0 0]\n",
            " [0 0 0 ... 1 0 0]\n",
            " [0 1 1 ... 1 0 0]\n",
            " ...\n",
            " [0 0 0 ... 0 0 0]\n",
            " [0 0 0 ... 0 0 0]\n",
            " [1 0 1 ... 0 1 0]]\n",
            "\n",
            "Classification Report:\n",
            "              precision    recall  f1-score   support\n",
            "\n",
            "       Ain ع       0.00      0.00      0.00        10\n",
            "     Aliph ا       0.00      0.00      0.00        10\n",
            "  Bari yeh ے       0.10      0.10      0.10        10\n",
            "       Bay ب       0.00      0.00      0.00        10\n",
            "      Chay چ       0.12      0.10      0.11        10\n",
            "Chhoti yeh ی       0.00      0.00      0.00        10\n",
            "     Daal  د       0.08      0.10      0.09        10\n",
            "      Daal ڈ       0.00      0.00      0.00        10\n",
            "     Dhaal ذ       0.07      0.10      0.08        10\n",
            "    Dhuaad ض       0.00      0.00      0.00        10\n",
            "      Djay ژ       0.00      0.00      0.00        10\n",
            "       Fay ف       0.00      0.00      0.00        10\n",
            "      Gaaf گ       0.08      0.10      0.09        10\n",
            "     Ghain غ       0.00      0.00      0.00        10\n",
            "   Hamza ‍‌ء       0.00      0.00      0.00        10\n",
            "       Hay ہ       0.14      0.10      0.12        10\n",
            "      Jeem ج       0.00      0.00      0.00        10\n",
            "      Kaaf ک       0.00      0.00      0.00        10\n",
            "      Khay خ       0.00      0.00      0.00        10\n",
            "      Laam ل       0.11      0.10      0.11        10\n",
            "      Meem م       0.00      0.00      0.00        10\n",
            "      Noon ن       0.06      0.10      0.07        10\n",
            "       Pay پ       0.00      0.00      0.00        10\n",
            "     Quaaf ق       0.00      0.00      0.00        10\n",
            "       Ray ر       0.00      0.00      0.00        10\n",
            "      Seen س       0.00      0.00      0.00        10\n",
            "   Sheen ‎‎ش       0.00      0.00      0.00        10\n",
            "     Suaad ص       0.00      0.00      0.00        10\n",
            "       Tay ت       0.00      0.00      0.00        10\n",
            "       Tey ٹ       0.00      0.00      0.00        10\n",
            "      Thay ث       0.00      0.00      0.00        10\n",
            "    Toay'n ط       0.00      0.00      0.00        10\n",
            "       Vao و       0.00      0.00      0.00        10\n",
            "       Zay ز       0.00      0.00      0.00        10\n",
            "    Zoay'n ظ       0.00      0.00      0.00        10\n",
            "      aRay ڑ       0.00      0.00      0.00        10\n",
            "       hey ح       0.00      0.00      0.00        10\n",
            "\n",
            "    accuracy                           0.02       370\n",
            "   macro avg       0.02      0.02      0.02       370\n",
            "weighted avg       0.02      0.02      0.02       370\n",
            "\n",
            "\n",
            "Accuracy_Dense: 0.021621621621621623\n"
          ]
        }
      ]
    }
  ]
}