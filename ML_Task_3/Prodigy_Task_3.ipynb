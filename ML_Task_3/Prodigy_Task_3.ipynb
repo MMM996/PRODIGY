{
  "nbformat": 4,
  "nbformat_minor": 0,
  "metadata": {
    "colab": {
      "provenance": [],
      "collapsed_sections": [
        "BZccX1TGmUDX",
        "bRiTq5xxmODw",
        "hEvHaEjXag2u"
      ]
    },
    "kernelspec": {
      "name": "python3",
      "display_name": "Python 3"
    },
    "language_info": {
      "name": "python"
    }
  },
  "cells": [
    {
      "cell_type": "markdown",
      "source": [
        "This is the code for Task 3 Prodigy Techinfo internship\n",
        "\n",
        "*   Cats and Dogs Classification\n",
        "*   The date is Jan-24.\n",
        "DataSet: https://www.kaggle.com/c/dogs-vs-cats/data (Amended)\n",
        "The Code is written by Muhammad Mudassir Majeed"
      ],
      "metadata": {
        "id": "kyV32uhZXxTm"
      }
    },
    {
      "cell_type": "markdown",
      "source": [
        "## Section 1: Load Data"
      ],
      "metadata": {
        "id": "-iGHJXObaRPs"
      }
    },
    {
      "cell_type": "markdown",
      "source": [
        "Import Necessary Libraries"
      ],
      "metadata": {
        "id": "BZccX1TGmUDX"
      }
    },
    {
      "cell_type": "code",
      "source": [
        "import numpy as np\n",
        "import tensorflow as tf\n",
        "from tensorflow.keras.models import Sequential\n",
        "from tensorflow.keras.layers import Activation, Dense, Flatten, BatchNormalization, Conv2D, MaxPool2D\n",
        "from tensorflow.keras.optimizers import Adam\n",
        "from tensorflow.keras.metrics import categorical_crossentropy\n",
        "from tensorflow.keras.preprocessing.image import ImageDataGenerator"
      ],
      "metadata": {
        "id": "gWAsC-C5lYNV"
      },
      "execution_count": 1,
      "outputs": []
    },
    {
      "cell_type": "markdown",
      "source": [
        "Mount Google Drive"
      ],
      "metadata": {
        "id": "bRiTq5xxmODw"
      }
    },
    {
      "cell_type": "code",
      "source": [
        "from google.colab import drive\n",
        "drive.mount('/content/gdrive')"
      ],
      "metadata": {
        "colab": {
          "base_uri": "https://localhost:8080/"
        },
        "id": "6qgquvqsllol",
        "outputId": "40f56e27-f005-4e6a-ada1-945a1a1ff19d"
      },
      "execution_count": 2,
      "outputs": [
        {
          "output_type": "stream",
          "name": "stdout",
          "text": [
            "Drive already mounted at /content/gdrive; to attempt to forcibly remount, call drive.mount(\"/content/gdrive\", force_remount=True).\n"
          ]
        }
      ]
    },
    {
      "cell_type": "markdown",
      "source": [
        "Provide Paths for each data folder"
      ],
      "metadata": {
        "id": "hEvHaEjXag2u"
      }
    },
    {
      "cell_type": "code",
      "source": [
        "train_path = '/content/gdrive/MyDrive/ProdigyTech_Info/data/train'\n",
        "valid_path = '/content/gdrive/MyDrive/ProdigyTech_Info/data/valid'\n",
        "test_path = '/content/gdrive/MyDrive/ProdigyTech_Info/data/test'"
      ],
      "metadata": {
        "id": "JBARwblFlZ1l"
      },
      "execution_count": 3,
      "outputs": []
    },
    {
      "cell_type": "markdown",
      "source": [
        "## Section 2: Pre-Process Data"
      ],
      "metadata": {
        "id": "T0OwSJU_a1tj"
      }
    },
    {
      "cell_type": "markdown",
      "source": [
        "Preprocess data so that it is valid for input"
      ],
      "metadata": {
        "id": "mrLq3zeVa68b"
      }
    },
    {
      "cell_type": "code",
      "source": [
        "train_batches = ImageDataGenerator(preprocessing_function=tf.keras.applications.vgg16.preprocess_input)\n",
        "train_set = train_batches.flow_from_directory(directory=train_path, target_size=(224,224), classes=['cat', 'dog'], batch_size=10)\n",
        "\n",
        "valid_batches = ImageDataGenerator(preprocessing_function=tf.keras.applications.vgg16.preprocess_input)\n",
        "valid_set = valid_batches.flow_from_directory(directory=valid_path, target_size=(224,224), classes=['cat', 'dog'], batch_size=10)\n",
        "\n",
        "test_batches = ImageDataGenerator(preprocessing_function=tf.keras.applications.vgg16.preprocess_input)\n",
        "test_set = test_batches.flow_from_directory(directory=test_path, target_size=(224,224), classes=['cat', 'dog'], batch_size=10, shuffle=False)"
      ],
      "metadata": {
        "colab": {
          "base_uri": "https://localhost:8080/"
        },
        "id": "fWFQyFifne2a",
        "outputId": "3a3c281b-2056-438a-efd7-ec7b4910eb16"
      },
      "execution_count": 4,
      "outputs": [
        {
          "output_type": "stream",
          "name": "stdout",
          "text": [
            "Found 1409 images belonging to 2 classes.\n",
            "Found 400 images belonging to 2 classes.\n",
            "Found 200 images belonging to 2 classes.\n"
          ]
        }
      ]
    },
    {
      "cell_type": "markdown",
      "source": [
        "## Section 3: Model Building"
      ],
      "metadata": {
        "id": "w6dStJxUa7Nh"
      }
    },
    {
      "cell_type": "markdown",
      "source": [
        "Define Model"
      ],
      "metadata": {
        "id": "7eRPmft5raVG"
      }
    },
    {
      "cell_type": "code",
      "source": [
        "model_1 = Sequential([\n",
        "    Conv2D(filters=32, kernel_size=(3, 3), activation='relu', padding = 'same', input_shape=(224,224,3)),\n",
        "    MaxPool2D(pool_size=(2, 2), strides=2),\n",
        "    Conv2D(filters=16, kernel_size=(3, 3), activation='relu', padding = 'same'),\n",
        "    MaxPool2D(pool_size=(2, 2), strides=2),\n",
        "    Flatten(),\n",
        "    Dense(units=2, activation='softmax')\n",
        "])"
      ],
      "metadata": {
        "id": "PIQRcRZWrZb_"
      },
      "execution_count": 5,
      "outputs": []
    },
    {
      "cell_type": "code",
      "source": [
        "model_1.summary()"
      ],
      "metadata": {
        "colab": {
          "base_uri": "https://localhost:8080/"
        },
        "id": "gRBk7Anvrt5p",
        "outputId": "814087e1-5dfe-425a-a0cc-34a0fb4d13cb"
      },
      "execution_count": 6,
      "outputs": [
        {
          "output_type": "stream",
          "name": "stdout",
          "text": [
            "Model: \"sequential\"\n",
            "_________________________________________________________________\n",
            " Layer (type)                Output Shape              Param #   \n",
            "=================================================================\n",
            " conv2d (Conv2D)             (None, 224, 224, 32)      896       \n",
            "                                                                 \n",
            " max_pooling2d (MaxPooling2  (None, 112, 112, 32)      0         \n",
            " D)                                                              \n",
            "                                                                 \n",
            " conv2d_1 (Conv2D)           (None, 112, 112, 16)      4624      \n",
            "                                                                 \n",
            " max_pooling2d_1 (MaxPoolin  (None, 56, 56, 16)        0         \n",
            " g2D)                                                            \n",
            "                                                                 \n",
            " flatten (Flatten)           (None, 50176)             0         \n",
            "                                                                 \n",
            " dense (Dense)               (None, 2)                 100354    \n",
            "                                                                 \n",
            "=================================================================\n",
            "Total params: 105874 (413.57 KB)\n",
            "Trainable params: 105874 (413.57 KB)\n",
            "Non-trainable params: 0 (0.00 Byte)\n",
            "_________________________________________________________________\n"
          ]
        }
      ]
    },
    {
      "cell_type": "markdown",
      "source": [
        "Compile Model"
      ],
      "metadata": {
        "id": "pBAdUf4NbG8y"
      }
    },
    {
      "cell_type": "code",
      "source": [
        "model_1.compile(optimizer=Adam(learning_rate=0.0001), loss='categorical_crossentropy', metrics=['accuracy'])"
      ],
      "metadata": {
        "id": "JjDK6VOar5rq"
      },
      "execution_count": 7,
      "outputs": []
    },
    {
      "cell_type": "markdown",
      "source": [
        "Train Model"
      ],
      "metadata": {
        "id": "ZcQRBy_PsDy3"
      }
    },
    {
      "cell_type": "code",
      "source": [
        "model_1.fit(x=train_set,\n",
        "    steps_per_epoch=len(train_set),\n",
        "    validation_data=valid_set,\n",
        "    validation_steps=len(valid_set),\n",
        "    epochs=5,\n",
        "    verbose=2\n",
        ")"
      ],
      "metadata": {
        "colab": {
          "base_uri": "https://localhost:8080/"
        },
        "id": "wncFaqxwsIy3",
        "outputId": "45936070-2b09-4f29-f451-4683835dfca0"
      },
      "execution_count": 9,
      "outputs": [
        {
          "output_type": "stream",
          "name": "stdout",
          "text": [
            "Epoch 1/5\n",
            "141/141 - 93s - loss: 9.3957 - accuracy: 0.5415 - val_loss: 6.2613 - val_accuracy: 0.5575 - 93s/epoch - 660ms/step\n",
            "Epoch 2/5\n",
            "141/141 - 90s - loss: 2.2204 - accuracy: 0.6891 - val_loss: 2.7794 - val_accuracy: 0.5950 - 90s/epoch - 636ms/step\n",
            "Epoch 3/5\n",
            "141/141 - 87s - loss: 0.7675 - accuracy: 0.7984 - val_loss: 2.3780 - val_accuracy: 0.6100 - 87s/epoch - 619ms/step\n",
            "Epoch 4/5\n",
            "141/141 - 88s - loss: 0.2980 - accuracy: 0.8971 - val_loss: 2.3423 - val_accuracy: 0.6100 - 88s/epoch - 626ms/step\n",
            "Epoch 5/5\n",
            "141/141 - 90s - loss: 0.1189 - accuracy: 0.9603 - val_loss: 2.2420 - val_accuracy: 0.6175 - 90s/epoch - 639ms/step\n"
          ]
        },
        {
          "output_type": "execute_result",
          "data": {
            "text/plain": [
              "<keras.src.callbacks.History at 0x78c89cb3a6e0>"
            ]
          },
          "metadata": {},
          "execution_count": 9
        }
      ]
    },
    {
      "cell_type": "markdown",
      "source": [
        "Predict Values from Model"
      ],
      "metadata": {
        "id": "i8Q1G2CesF1Z"
      }
    },
    {
      "cell_type": "code",
      "source": [
        "predictions_1 = model_1.predict(x=test_set, steps=len(test_set), verbose=0)"
      ],
      "metadata": {
        "id": "XRxVAO4ssiXt"
      },
      "execution_count": 10,
      "outputs": []
    },
    {
      "cell_type": "markdown",
      "source": [
        "## Section 4: Model Evaluation"
      ],
      "metadata": {
        "id": "Or-qgKtobHS5"
      }
    },
    {
      "cell_type": "code",
      "source": [
        "from sklearn.metrics import accuracy_score, recall_score, precision_score, f1_score"
      ],
      "metadata": {
        "id": "niy1dA3YtIBs"
      },
      "execution_count": 11,
      "outputs": []
    },
    {
      "cell_type": "markdown",
      "source": [
        "Eavluate Model"
      ],
      "metadata": {
        "id": "dArUcMudwSXa"
      }
    },
    {
      "cell_type": "code",
      "source": [
        "evaluation_1 = model_1.evaluate(test_set)\n",
        "\n",
        "print(\"Test Loss:\", evaluation_1[0])\n",
        "print(\"Test Accuracy:\", evaluation_1[1])\n"
      ],
      "metadata": {
        "colab": {
          "base_uri": "https://localhost:8080/"
        },
        "id": "h8vDIzp5wVYf",
        "outputId": "be657d44-17b3-4085-a7d0-19b099917e68"
      },
      "execution_count": 12,
      "outputs": [
        {
          "output_type": "stream",
          "name": "stdout",
          "text": [
            "20/20 [==============================] - 5s 225ms/step - loss: 2.4626 - accuracy: 0.5750\n",
            "Test Loss: 2.4625813961029053\n",
            "Test Accuracy: 0.574999988079071\n"
          ]
        }
      ]
    },
    {
      "cell_type": "code",
      "source": [
        "# Convert predictions to class labels\n",
        "predicted_classes_1 = np.argmax(predictions_1, axis=1)\n",
        "\n",
        "# Obtain true class labels from the test set\n",
        "true_classes_1 = test_set.classes"
      ],
      "metadata": {
        "id": "XCwy7bfswre4"
      },
      "execution_count": 13,
      "outputs": []
    },
    {
      "cell_type": "markdown",
      "source": [
        "Accuracy"
      ],
      "metadata": {
        "id": "LMVBlmzysrk_"
      }
    },
    {
      "cell_type": "code",
      "source": [
        "accuracy_1 = accuracy_score(true_classes_1, predicted_classes_1)"
      ],
      "metadata": {
        "id": "6NFA8y2dsyGs"
      },
      "execution_count": 14,
      "outputs": []
    },
    {
      "cell_type": "markdown",
      "source": [
        "Precision"
      ],
      "metadata": {
        "id": "MFBrHHt5ssqA"
      }
    },
    {
      "cell_type": "code",
      "source": [
        "precision_1 = precision_score(true_classes_1, predicted_classes_1)"
      ],
      "metadata": {
        "id": "3tXzZUU-sysC"
      },
      "execution_count": 15,
      "outputs": []
    },
    {
      "cell_type": "markdown",
      "source": [
        "Recall"
      ],
      "metadata": {
        "id": "eld3iKeHsuCj"
      }
    },
    {
      "cell_type": "code",
      "source": [
        "recall_1 = recall_score(true_classes_1, predicted_classes_1)"
      ],
      "metadata": {
        "id": "fuiEfXYeszIH"
      },
      "execution_count": 16,
      "outputs": []
    },
    {
      "cell_type": "markdown",
      "source": [
        "F1 Score"
      ],
      "metadata": {
        "id": "RhfJDGPBsuyT"
      }
    },
    {
      "cell_type": "code",
      "source": [
        "f1_1 = f1_score(true_classes_1, predicted_classes_1)"
      ],
      "metadata": {
        "id": "DiiJUpeYszql"
      },
      "execution_count": 17,
      "outputs": []
    },
    {
      "cell_type": "markdown",
      "source": [
        "# Section 5: Results"
      ],
      "metadata": {
        "id": "nqdjc2WHsz98"
      }
    },
    {
      "cell_type": "code",
      "source": [
        "from tabulate import tabulate"
      ],
      "metadata": {
        "id": "8blLvvxds21h"
      },
      "execution_count": 18,
      "outputs": []
    },
    {
      "cell_type": "code",
      "source": [
        "data = [\n",
        "    ['Model_1', accuracy_1, precision_1, recall_1, f1_1]\n",
        "    ]\n",
        "\n",
        "headers = ['Model Name', 'Accuracy','Precision','Recall','F1 Score']\n",
        "\n",
        "table = tabulate(data, headers = headers, tablefmt = 'fancy_grid', floatfmt = ('.2%','.2%','.2%','.2%','.2%'))\n",
        "print(table)"
      ],
      "metadata": {
        "colab": {
          "base_uri": "https://localhost:8080/"
        },
        "id": "QRZw3meduTje",
        "outputId": "23654361-86ea-404a-b824-27a60c5cd8c0"
      },
      "execution_count": 21,
      "outputs": [
        {
          "output_type": "stream",
          "name": "stdout",
          "text": [
            "╒══════════════╤════════════╤═════════════╤══════════╤════════════╕\n",
            "│ Model Name   │   Accuracy │   Precision │   Recall │   F1 Score │\n",
            "╞══════════════╪════════════╪═════════════╪══════════╪════════════╡\n",
            "│ Model_1      │     57.50% │      57.43% │   58.00% │     57.71% │\n",
            "╘══════════════╧════════════╧═════════════╧══════════╧════════════╛\n"
          ]
        }
      ]
    }
  ]
}